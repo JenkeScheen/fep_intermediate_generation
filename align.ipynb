{
 "cells": [
  {
   "cell_type": "code",
   "execution_count": 29,
   "metadata": {},
   "outputs": [],
   "source": [
    "import py3Dmol\n",
    "import copy\n",
    "import itertools\n",
    "from rdkit import Chem\n",
    "from rdkit.Chem import rdFMCS\n",
    "from rdkit.Chem import Draw\n",
    "from rdkit.Chem.Draw import IPythonConsole\n",
    "from rdkit.Chem import AllChem\n",
    "from rdkit.Chem import rdBase\n",
    "from rdkit.Chem import rdMolAlign\n",
    "from rdkit.Chem import rdMolDescriptors\n",
    "from rdkit.Chem.EnumerateStereoisomers import EnumerateStereoisomers, StereoEnumerationOptions\n",
    "import numpy as np\n",
    "import itertools\n",
    "import os\n",
    "p = AllChem.ETKDGv2()\n",
    "p.randomSeed = 42\n",
    "p.verbose = False"
   ]
  },
  {
   "cell_type": "markdown",
   "metadata": {},
   "source": [
    "#based on \n",
    "https://iwatobipen.wordpress.com/2018/09/26/3d-alignment-function-of-rdkit-rdkit/ \n",
    "https://www.rdkit.org/UGM/2012/Ebejer_20110926_RDKit_1stUGM.pdf\n"
   ]
  },
  {
   "cell_type": "code",
   "execution_count": 21,
   "metadata": {},
   "outputs": [],
   "source": [
    "def generate_conformers(mol, num = 50, addHs = False, stereo = False, draw = False):\n",
    "    \"\"\"Generate stereoisomers and conformers, returns list object\n",
    "    mol: is rdkit molecule object\n",
    "    num: number of conformers to generate (per isomer)\n",
    "    add_hs: whether to add hydrogens or not\n",
    "    stereo: whether or not to generate stereoisomers\n",
    "    draw: whether to draw the confermers\"\"\"\n",
    "\n",
    "    if addHs:\n",
    "        mol = Chem.AddHs(mol)\n",
    "\n",
    "\n",
    "    if 7 < Chem.rdMolDescriptors.CalcNumRotatableBonds(mol) <= 12 and num == 50:\n",
    "        print('The number of rotatable bonds is bigger than 7, num is increased to 200')\n",
    "        num = 200\n",
    "    elif Chem.rdMolDescriptors.CalcNumRotatableBonds(mol) > 12 and num == 50:\n",
    "        print('The number of rotatable bonds is bigger than 12, num is increased to 300')\n",
    "        num = 300\n",
    "\n",
    "    # generate isomers\n",
    "    conformers = []\n",
    "\n",
    "    if stereo:\n",
    "        stereo_isomers = tuple(EnumerateStereoisomers(mol))\n",
    "        # generate conformers per each stereoisomer\n",
    "        for isomer in stereo_isomers:\n",
    "            AllChem.EmbedMultipleConfs(isomer, num, p)\n",
    "            conformers.append(isomer)\n",
    "    else:\n",
    "        AllChem.EmbedMultipleConfs(mol, num, p)\n",
    "        conformers.append(mol)\n",
    "\n",
    "    if draw:\n",
    "        Draw.MolsToGridImage(conformers)\n",
    "\n",
    "    return conformers\n"
   ]
  },
  {
   "cell_type": "code",
   "execution_count": 22,
   "metadata": {},
   "outputs": [],
   "source": [
    "def optimize_conformation(mol, addHs=True):\n",
    "    \"\"\"optimize conformation of molecule \n",
    "    mol: is rdkit molecule object\n",
    "    addHs: whether to add hydrogens or not\n",
    "    \"\"\"\n",
    "\n",
    "    if addHs:\n",
    "        mol = Chem.AddHs(mol)\n",
    "        \n",
    "    AllChem.EmbedMolecule(mol)\n",
    "    AllChem.MMFFOptimizeMolecule(mol) \n",
    "\n",
    "    return mol"
   ]
  },
  {
   "cell_type": "code",
   "execution_count": 23,
   "metadata": {},
   "outputs": [],
   "source": [
    "def align_conformers(mol, ref):\n",
    "    \"\"\"Align and score conformers of mol to reference, returns best pair\n",
    "    ref: is rdkit molecule of template / reference\n",
    "    mol: is rdkit molecule object\"\"\"\n",
    "\n",
    "    # conduct GetCrippenO3A\n",
    "    # Get an O3A object with atomMap and weights vectors to overlay\n",
    "    # the probe molecule onto the reference molecule based on Crippen logP atom contributions\n",
    "    crippen_contribs = rdMolDescriptors._CalcCrippenContribs(mol)\n",
    "    crippen_ref = rdMolDescriptors._CalcCrippenContribs(ref)\n",
    "\n",
    "    tempscore = []\n",
    "    ids = []\n",
    "    for prb_cid in range(mol.GetNumConformers()):\n",
    "        for ref_cid in range(ref.GetNumConformers()):\n",
    "            crippenO3A = rdMolAlign.GetCrippenO3A(prbMol = mol, refMol = ref, prbCrippenContribs = crippen_contribs,\n",
    "                                                refCrippenContribs = crippen_ref, prbCid = prb_cid, refCid = ref_cid)\n",
    "            crippenO3A.Align()\n",
    "            tempscore.append(crippenO3A.Score())\n",
    "            ids.append([prb_cid, ref_cid])\n",
    "    best = np.argmax(tempscore)\n",
    "    # select best isomer\n",
    "    best_mol = Chem.MolFromMolBlock(Chem.MolToMolBlock(mol, confId=int(ids[best][0])), removeHs=False)\n",
    "    best_ref = Chem.MolFromMolBlock(Chem.MolToMolBlock(ref, confId=int(ids[best][1])), removeHs=False)\n",
    "\n",
    "    return best_mol, best_ref"
   ]
  },
  {
   "cell_type": "code",
   "execution_count": 54,
   "metadata": {},
   "outputs": [],
   "source": [
    "def align_mcs(mol,ref):\n",
    "\n",
    "    res=rdFMCS.FindMCS([mol,ref],threshold=0.9, matchValences=True, ringMatchesRingOnly=True, completeRingsOnly=True)\n",
    "    p = Chem.MolFromSmarts(res.smartsString)\n",
    "    p\n",
    "    \n",
    "    matchingMols = [x for x in [mol,ref] if x.HasSubstructMatch(p)]\n",
    "    print(matchingMols)\n",
    "    core1 = AllChem.DeleteSubstructs(AllChem.ReplaceSidechains(Chem.RemoveHs(matchingMols[1]),p),Chem.MolFromSmiles('*'))\n",
    "    core1.UpdatePropertyCache()\n",
    "\n",
    "    return core1\n"
   ]
  },
  {
   "cell_type": "code",
   "execution_count": 49,
   "metadata": {},
   "outputs": [],
   "source": [
    "def main(to_align, intermediate, ref):\n",
    "    \"\"\"Code for optimizing the conformation, generating conformers and aligning conformers to reference.\"\"\"\n",
    "    \n",
    "    # get lowest energy conformation\n",
    "    to_align = optimize_conformation(to_align, addHs=True)\n",
    "    intermediate = optimize_conformation(intermediate, addHs=True)\n",
    "    ref = optimize_conformation(ref, addHs=True)\n",
    "\n",
    "    # generate isomers\n",
    "    to_align = generate_conformers(to_align, num = 50, addHs = False, stereo = False, draw = False)[0]\n",
    "    intermediate = generate_conformers(intermediate, num = 50, addHs = False, stereo = False, draw = False)[0]\n",
    "    ref = generate_conformers(ref, num = 1, addHs = False, stereo = False, draw = False)[0]\n",
    "\n",
    "    # select best conformer based on alignment score\n",
    "    best_mol, best_ref = align_conformers(to_align, ref)\n",
    "\n",
    "    best_intermediate, _ = align_conformers(intermediate, ref)\n",
    "\n",
    "    return best_mol, best_intermediate, best_ref"
   ]
  },
  {
   "cell_type": "code",
   "execution_count": 55,
   "metadata": {},
   "outputs": [
    {
     "name": "stdout",
     "output_type": "stream",
     "text": [
      "cats_CatS_29_CatS_141_i\n",
      "[<rdkit.Chem.rdchem.Mol object at 0x7fa5c539b880>, <rdkit.Chem.rdchem.Mol object at 0x7fa5c539b940>]\n"
     ]
    }
   ],
   "source": [
    "# load molecules\n",
    "sdf = False\n",
    "ligands  = [m for m in Chem.SDMolSupplier('lig.sdf')]\n",
    "intermediates = [m for m in Chem.SDMolSupplier('interm.sdf')]\n",
    "for i, intermediate in enumerate(intermediates):\n",
    "    \n",
    "    if i != 14: continue\n",
    "    print(intermediate.GetProp(\"_Name\"))\n",
    "    os.makedirs(f'3d/{i}', exist_ok = True)\n",
    "    # first entry in list of ligands is reference, second ligand from pair will be aligned to this\n",
    "    ref = ligands.pop(13*2)\n",
    "    to_align = ligands.pop(13*2)\n",
    "    core = align_mcs(to_align, ref)\n",
    "    p_crippen = py3Dmol.view(width=600, height=400)\n",
    "    p_crippen.addModel(Chem.MolToMolBlock(core), 'sdf')\n",
    "    \n",
    "\n",
    "    p_crippen.setStyle({'stick':{}})\n",
    "    p_crippen.render()\n",
    "    best_mol, best_intermediate, best_ref = main(to_align, intermediate, ref)\n",
    "\n",
    "    # write to file\n",
    "    if sdf:\n",
    "        with Chem.SDWriter('3d/1/conformers_test.sdf') as w:\n",
    "            best_mol.SetProp('_Name', to_align.GetProp(\"_Name\"))\n",
    "            w.write(best_mol)\n",
    "\n",
    "        with Chem.SDWriter('conformers_test.sdf') as w:\n",
    "            best_mol.SetProp('_Name', intermediate.GetProp(\"_Name\"))\n",
    "            w.write(best_mol)    \n",
    "\n",
    "        with Chem.SDWriter('ref_test.sdf') as w:\n",
    "            best_ref.SetProp('_Name', ref.GetProp(\"_Name\"))\n",
    "            w.write(best_ref)\n",
    "\n",
    "    with Chem.PDBWriter(f'3d/{i}/{to_align.GetProp(\"_Name\")}.pdb') as w:\n",
    "        w.write(best_mol)\n",
    "\n",
    "    with Chem.PDBWriter(f'3d/{i}/{intermediate.GetProp(\"_Name\")}.pdb') as w:\n",
    "        w.write(best_intermediate)\n",
    "\n",
    "    with Chem.PDBWriter(f'3d/{i}/{ref.GetProp(\"_Name\")}.pdb') as w:\n",
    "        w.write(best_ref)"
   ]
  },
  {
   "cell_type": "code",
   "execution_count": 66,
   "metadata": {},
   "outputs": [
    {
     "data": {
      "application/3dmoljs_load.v0": "<div id=\"3dmolviewer_16572838875776916\"  style=\"position: relative; width: 600px; height: 400px\">\n        <p id=\"3dmolwarning_16572838875776916\" style=\"background-color:#ffcccc;color:black\">You appear to be running in JupyterLab (or JavaScript failed to load for some other reason).  You need to install the 3dmol extension: <br>\n        <tt>jupyter labextension install jupyterlab_3dmol</tt></p>\n        </div>\n<script>\n\nvar loadScriptAsync = function(uri){\n  return new Promise((resolve, reject) => {\n    var tag = document.createElement('script');\n    tag.src = uri;\n    tag.async = true;\n    tag.onload = () => {\n      resolve();\n    };\n  var firstScriptTag = document.getElementsByTagName('script')[0];\n  firstScriptTag.parentNode.insertBefore(tag, firstScriptTag);\n});\n};\n\nif(typeof $3Dmolpromise === 'undefined') {\n$3Dmolpromise = null;\n  $3Dmolpromise = loadScriptAsync('https://3dmol.org/build/3Dmol.js');\n}\n\nvar viewer_16572838875776916 = null;\nvar warn = document.getElementById(\"3dmolwarning_16572838875776916\");\nif(warn) {\n    warn.parentNode.removeChild(warn);\n}\n$3Dmolpromise.then(function() {\nviewer_16572838875776916 = $3Dmol.createViewer($(\"#3dmolviewer_16572838875776916\"),{backgroundColor:\"white\"});\nviewer_16572838875776916.zoomTo();\n\tviewer_16572838875776916.addModel(\"cats_CatS_165\\n     RDKit          3D\\n\\n102106  0  0  1  0  0  0  0  0999 V2000\\n    1.3429    2.6664   -0.0517 C   0  0  0  0  0  0  0  0  0  0  0  0\\n    2.6915    2.7473   -0.3600 C   0  0  0  0  0  0  0  0  0  0  0  0\\n    3.3483    1.6218   -0.8398 C   0  0  0  0  0  0  0  0  0  0  0  0\\n    2.6661    0.4744   -0.9980 C   0  0  0  0  0  0  0  0  0  0  0  0\\n    1.2791    0.4121   -0.6725 C   0  0  0  0  0  0  0  0  0  0  0  0\\n    0.6306    1.5067   -0.2022 C   0  0  0  0  0  0  0  0  0  0  0  0\\n   -0.8045    1.4154    0.1311 C   0  0  0  0  0  0  0  0  0  0  0  0\\n   -1.8254    2.2397   -0.2418 C   0  0  0  0  0  0  0  0  0  0  0  0\\n   -3.0189    1.7302    0.2980 C   0  0  0  0  0  0  0  0  0  0  0  0\\n   -2.7019    0.6236    0.9788 N   0  0  0  0  0  0  0  0  0  0  0  0\\n   -1.3876    0.4417    0.8766 N   0  0  0  0  0  0  0  0  0  0  0  0\\n   -3.6022   -0.2810    1.7158 C   0  0  0  0  0  0  0  0  0  0  0  0\\n   -4.0805   -1.4291    0.8703 C   0  0  2  0  0  0  0  0  0  0  0  0\\n   -2.8537   -2.2082    0.4338 C   0  0  0  0  0  0  0  0  0  0  0  0\\n   -3.1502   -3.3737   -0.3661 N   0  0  0  0  0  4  0  0  0  0  0  0\\n   -4.4268   -3.2974   -1.0233 C   0  0  0  0  0  0  0  0  0  0  0  0\\n   -4.5866   -4.6488   -1.7451 C   0  0  0  0  0  0  0  0  0  0  0  0\\n   -5.0180   -5.6109   -0.6638 C   0  0  0  0  0  0  0  0  0  0  0  0\\n   -4.2233   -5.3927    0.5753 C   0  0  0  0  0  0  0  0  0  0  0  0\\n   -2.9746   -4.5948    0.3909 C   0  0  0  0  0  0  0  0  0  0  0  0\\n   -4.8049   -0.9594   -0.1956 O   0  0  0  0  0  0  0  0  0  0  0  0\\n   -4.3276    2.3820    0.0880 C   0  0  0  0  0  0  0  0  0  0  0  0\\n   -4.2812    3.4589   -0.9913 C   0  0  0  0  0  0  0  0  0  0  0  0\\n   -3.0284    4.1889   -0.6841 N   0  0  0  0  0  0  0  0  0  0  0  0\\n   -1.8388    3.4738   -1.0391 C   0  0  0  0  0  0  0  0  0  0  0  0\\n   -3.0724    5.5234   -0.2147 C   0  0  0  0  0  0  0  0  0  0  0  0\\n   -4.2526    6.0196   -0.3147 O   0  0  0  0  0  0  0  0  0  0  0  0\\n    3.3752   -0.9989   -1.7174 S   0  0  0  0  0  0  0  0  0  0  0  0\\n    3.6079   -2.2920   -0.5223 C   0  0  0  0  0  0  0  0  0  0  0  0\\n    4.6809   -2.1491    0.4641 C   0  0  0  0  0  0  0  0  0  0  0  0\\n    5.9826   -2.1227   -0.1938 N   0  0  0  0  0  4  0  0  0  0  0  0\\n    7.0316   -1.8101    0.7082 C   0  0  0  0  0  0  0  0  0  0  0  0\\n    7.2468   -2.8280    1.8037 C   0  0  0  0  0  0  0  0  0  0  0  0\\n    7.4157   -4.2002    1.2223 C   0  0  0  0  0  0  0  0  0  0  0  0\\n    6.2735   -4.5160    0.2363 C   0  0  0  0  0  0  0  0  0  0  0  0\\n    6.2759   -3.4430   -0.7765 C   0  0  0  0  0  0  0  0  0  0  0  0\\n    4.7772    1.7574   -1.1520 C   0  0  0  0  0  0  0  0  0  0  0  0\\n    5.1681    3.0880   -0.9171 F   0  0  0  0  0  0  0  0  0  0  0  0\\n    5.0109    1.4244   -2.4441 F   0  0  0  0  0  0  0  0  0  0  0  0\\n    5.5425    0.9536   -0.3133 F   0  0  0  0  0  0  0  0  0  0  0  0\\n    8.5606   -4.1430    0.4079 F   0  0  0  0  0  0  0  0  0  0  0  0\\n   -2.0512    6.2991    0.2852 N   0  0  0  0  0  0  0  0  0  0  0  0\\n   -2.1146    7.7545   -0.0133 C   0  0  0  0  0  0  0  0  0  0  0  0\\n   -1.1247    6.0190    1.3712 C   0  0  0  0  0  0  0  0  0  0  0  0\\n   -3.4549    8.2859    0.4032 C   0  0  0  0  0  0  0  0  0  0  0  0\\n   -2.0433    7.8862   -1.5417 C   0  0  0  0  0  0  0  0  0  0  0  0\\n   -1.1353    4.7040    1.9932 C   0  0  0  0  0  0  0  0  0  0  0  0\\n   -1.9005    6.8724    2.5991 C   0  0  0  0  0  0  0  0  0  0  0  0\\n    0.8945    3.5788    0.2856 H   0  0  0  0  0  0  0  0  0  0  0  0\\n    3.2132    3.6833   -0.2232 H   0  0  0  0  0  0  0  0  0  0  0  0\\n    0.7679   -0.5086   -0.8064 H   0  0  0  0  0  0  0  0  0  0  0  0\\n   -3.0034   -0.7208    2.5472 H   0  0  0  0  0  0  0  0  0  0  0  0\\n   -4.4255    0.2890    2.1773 H   0  0  0  0  0  0  0  0  0  0  0  0\\n   -4.6608   -2.0914    1.5221 H   0  0  0  0  0  0  0  0  0  0  0  0\\n   -2.2687   -2.4355    1.3430 H   0  0  0  0  0  0  0  0  0  0  0  0\\n   -2.2613   -1.4839   -0.1996 H   0  0  0  0  0  0  0  0  0  0  0  0\\n   -2.4263   -3.4216   -1.1454 H   0  0  0  0  0  0  0  0  0  0  0  0\\n   -5.2868   -3.2287   -0.3574 H   0  0  0  0  0  0  0  0  0  0  0  0\\n   -4.3938   -2.5547   -1.8416 H   0  0  0  0  0  0  0  0  0  0  0  0\\n   -5.3414   -4.5390   -2.5368 H   0  0  0  0  0  0  0  0  0  0  0  0\\n   -3.5974   -4.9187   -2.1825 H   0  0  0  0  0  0  0  0  0  0  0  0\\n   -4.9143   -6.6440   -1.0912 H   0  0  0  0  0  0  0  0  0  0  0  0\\n   -6.1138   -5.4461   -0.5054 H   0  0  0  0  0  0  0  0  0  0  0  0\\n   -4.8649   -4.8520    1.3207 H   0  0  0  0  0  0  0  0  0  0  0  0\\n   -3.9347   -6.3802    0.9803 H   0  0  0  0  0  0  0  0  0  0  0  0\\n   -2.1978   -5.2595   -0.0156 H   0  0  0  0  0  0  0  0  0  0  0  0\\n   -2.6175   -4.3048    1.4166 H   0  0  0  0  0  0  0  0  0  0  0  0\\n   -5.7533   -0.8489    0.0927 H   0  0  0  0  0  0  0  0  0  0  0  0\\n   -5.1655    1.7421   -0.1346 H   0  0  0  0  0  0  0  0  0  0  0  0\\n   -4.5776    2.9382    1.0385 H   0  0  0  0  0  0  0  0  0  0  0  0\\n   -5.1610    4.1097   -0.8462 H   0  0  0  0  0  0  0  0  0  0  0  0\\n   -4.2231    2.9959   -1.9921 H   0  0  0  0  0  0  0  0  0  0  0  0\\n   -2.0020    3.1287   -2.1116 H   0  0  0  0  0  0  0  0  0  0  0  0\\n   -0.9354    4.0652   -1.0444 H   0  0  0  0  0  0  0  0  0  0  0  0\\n    2.6339   -2.4140    0.0404 H   0  0  0  0  0  0  0  0  0  0  0  0\\n    3.6881   -3.2673   -1.0895 H   0  0  0  0  0  0  0  0  0  0  0  0\\n    4.6229   -2.9336    1.2098 H   0  0  0  0  0  0  0  0  0  0  0  0\\n    4.5665   -1.1851    0.9999 H   0  0  0  0  0  0  0  0  0  0  0  0\\n    5.9984   -1.5322   -1.0300 H   0  0  0  0  0  0  0  0  0  0  0  0\\n    7.9767   -1.7285    0.1382 H   0  0  0  0  0  0  0  0  0  0  0  0\\n    6.8862   -0.8283    1.2074 H   0  0  0  0  0  0  0  0  0  0  0  0\\n    8.1883   -2.5579    2.3160 H   0  0  0  0  0  0  0  0  0  0  0  0\\n    6.3938   -2.8365    2.5122 H   0  0  0  0  0  0  0  0  0  0  0  0\\n    7.5052   -4.9631    1.9972 H   0  0  0  0  0  0  0  0  0  0  0  0\\n    6.6297   -5.4546   -0.2837 H   0  0  0  0  0  0  0  0  0  0  0  0\\n    5.3466   -4.7680    0.7211 H   0  0  0  0  0  0  0  0  0  0  0  0\\n    7.3055   -3.3492   -1.1870 H   0  0  0  0  0  0  0  0  0  0  0  0\\n    5.6194   -3.6419   -1.6453 H   0  0  0  0  0  0  0  0  0  0  0  0\\n   -1.2726    8.3061    0.3967 H   0  0  0  0  0  0  0  0  0  0  0  0\\n   -0.2826    6.6842    1.3834 H   0  0  0  0  0  0  0  0  0  0  0  0\\n   -4.1735    8.3290   -0.4690 H   0  0  0  0  0  0  0  0  0  0  0  0\\n   -3.3823    9.3771    0.7021 H   0  0  0  0  0  0  0  0  0  0  0  0\\n   -3.9720    7.7061    1.1874 H   0  0  0  0  0  0  0  0  0  0  0  0\\n   -3.0621    8.0088   -1.9631 H   0  0  0  0  0  0  0  0  0  0  0  0\\n   -1.6461    6.9337   -1.9829 H   0  0  0  0  0  0  0  0  0  0  0  0\\n   -1.4339    8.7507   -1.8349 H   0  0  0  0  0  0  0  0  0  0  0  0\\n   -1.2664    4.7700    3.1550 H   0  0  0  0  0  0  0  0  0  0  0  0\\n   -0.2388    4.1070    1.9156 H   0  0  0  0  0  0  0  0  0  0  0  0\\n   -2.0935    4.1648    1.7342 H   0  0  0  0  0  0  0  0  0  0  0  0\\n   -2.8169    6.3434    2.7532 H   0  0  0  0  0  0  0  0  0  0  0  0\\n   -1.8726    7.8883    2.2730 H   0  0  0  0  0  0  0  0  0  0  0  0\\n   -1.1847    6.6882    3.4073 H   0  0  0  0  0  0  0  0  0  0  0  0\\n  1  2  2  0\\n  1  6  1  0\\n  2  3  1  0\\n  3  4  2  0\\n  3 37  1  0\\n  4  5  1  0\\n  4 28  1  0\\n  5  6  2  0\\n  6  7  1  0\\n  7  8  1  0\\n  7 11  2  0\\n  8  9  2  0\\n  8 25  1  0\\n  9 10  1  0\\n  9 22  1  0\\n 10 11  1  0\\n 10 12  1  0\\n 12 13  1  0\\n 13 14  1  0\\n 13 21  1  0\\n 14 15  1  0\\n 15 16  1  0\\n 15 20  1  0\\n 16 17  1  0\\n 17 18  1  0\\n 18 19  1  0\\n 19 20  1  0\\n 22 23  1  0\\n 23 24  1  0\\n 24 25  1  0\\n 24 26  1  0\\n 26 27  2  0\\n 28 29  1  0\\n 29 30  1  0\\n 30 31  1  0\\n 31 32  1  0\\n 31 36  1  0\\n 32 33  1  0\\n 33 34  1  0\\n 34 35  1  0\\n 34 41  1  0\\n 35 36  1  0\\n 37 38  1  0\\n 37 39  1  0\\n 37 40  1  0\\n 42 26  1  0\\n 43 42  1  0\\n 44 42  1  0\\n 45 43  1  0\\n 46 43  1  0\\n 47 44  1  0\\n 48 44  1  0\\n  1 49  1  0\\n  2 50  1  0\\n  5 51  1  0\\n 12 52  1  0\\n 12 53  1  0\\n 13 54  1  1\\n 14 55  1  0\\n 14 56  1  0\\n 15 57  1  0\\n 16 58  1  0\\n 16 59  1  0\\n 17 60  1  0\\n 17 61  1  0\\n 18 62  1  0\\n 18 63  1  0\\n 19 64  1  0\\n 19 65  1  0\\n 20 66  1  0\\n 20 67  1  0\\n 21 68  1  0\\n 22 69  1  0\\n 22 70  1  0\\n 23 71  1  0\\n 23 72  1  0\\n 25 73  1  0\\n 25 74  1  0\\n 29 75  1  0\\n 29 76  1  0\\n 30 77  1  0\\n 30 78  1  0\\n 31 79  1  0\\n 32 80  1  0\\n 32 81  1  0\\n 33 82  1  0\\n 33 83  1  0\\n 34 84  1  0\\n 35 85  1  0\\n 35 86  1  0\\n 36 87  1  0\\n 36 88  1  0\\n 43 89  1  0\\n 44 90  1  0\\n 45 91  1  0\\n 45 92  1  0\\n 45 93  1  0\\n 46 94  1  0\\n 46 95  1  0\\n 46 96  1  0\\n 47 97  1  0\\n 47 98  1  0\\n 47 99  1  0\\n 48100  1  0\\n 48101  1  0\\n 48102  1  0\\nM  CHG  2  15   1  31   1\\nM  END\\n\",\"sdf\");\n\tviewer_16572838875776916.addModel(\"cats_CatS_132\\n     RDKit          3D\\n\\n 91 96  0  0  1  0  0  0  0  0999 V2000\\n   -2.8323    9.6881    1.3692 C   0  0  0  0  0  0  0  0  0  0  0  0\\n   -3.0964    8.4607    0.9035 C   0  0  0  0  0  0  0  0  0  0  0  0\\n   -2.0491    7.6688    0.5494 C   0  0  0  0  0  0  0  0  0  0  0  0\\n   -0.6921    8.6890    0.8867 S   0  0  0  0  0  0  0  0  0  0  0  0\\n   -1.5203   10.0633    1.4576 C   0  0  0  0  0  0  0  0  0  0  0  0\\n   -2.0036    6.3247    0.0248 N   0  0  0  0  0  0  0  0  0  0  0  0\\n   -3.0946    5.5103   -0.2438 C   0  0  0  0  0  0  0  0  0  0  0  0\\n   -4.2536    5.9952   -0.0040 O   0  0  0  0  0  0  0  0  0  0  0  0\\n   -3.0377    4.1896   -0.7601 N   0  0  0  0  0  0  0  0  0  0  0  0\\n   -4.2900    3.4528   -0.9897 C   0  0  0  0  0  0  0  0  0  0  0  0\\n   -4.3273    2.3820    0.0765 C   0  0  0  0  0  0  0  0  0  0  0  0\\n   -3.0170    1.7309    0.2832 C   0  0  0  0  0  0  0  0  0  0  0  0\\n   -1.8288    2.2439   -0.2541 C   0  0  0  0  0  0  0  0  0  0  0  0\\n   -0.8067    1.4204    0.1345 C   0  0  0  0  0  0  0  0  0  0  0  0\\n   -1.3887    0.4454    0.8835 N   0  0  0  0  0  0  0  0  0  0  0  0\\n   -2.7027    0.6258    0.9744 N   0  0  0  0  0  0  0  0  0  0  0  0\\n   -3.6070   -0.2770    1.7106 C   0  0  0  0  0  0  0  0  0  0  0  0\\n   -4.0771   -1.4327    0.8696 C   0  0  2  0  0  0  0  0  0  0  0  0\\n   -2.8536   -2.2072    0.4395 C   0  0  0  0  0  0  0  0  0  0  0  0\\n   -3.1490   -3.3751   -0.3581 N   0  0  0  0  0  4  0  0  0  0  0  0\\n   -4.4253   -3.2986   -1.0253 C   0  0  0  0  0  0  0  0  0  0  0  0\\n   -4.5860   -4.6485   -1.7455 C   0  0  0  0  0  0  0  0  0  0  0  0\\n   -5.0171   -5.6116   -0.6661 C   0  0  0  0  0  0  0  0  0  0  0  0\\n   -4.2228   -5.3931    0.5744 C   0  0  0  0  0  0  0  0  0  0  0  0\\n   -2.9742   -4.5948    0.3903 C   0  0  0  0  0  0  0  0  0  0  0  0\\n   -4.8042   -0.9589   -0.2023 O   0  0  0  0  0  0  0  0  0  0  0  0\\n    0.6314    1.5048   -0.1774 C   0  0  0  0  0  0  0  0  0  0  0  0\\n    1.3425    2.6678   -0.0035 C   0  0  0  0  0  0  0  0  0  0  0  0\\n    2.6860    2.7499   -0.3104 C   0  0  0  0  0  0  0  0  0  0  0  0\\n    3.3507    1.6264   -0.8115 C   0  0  0  0  0  0  0  0  0  0  0  0\\n    2.6603    0.4720   -0.9873 C   0  0  0  0  0  0  0  0  0  0  0  0\\n    1.2800    0.4122   -0.6650 C   0  0  0  0  0  0  0  0  0  0  0  0\\n    3.3954   -0.9729   -1.7164 S   0  0  0  0  0  0  0  0  0  0  0  0\\n    3.5942   -2.3029   -0.5319 C   0  0  0  0  0  0  0  0  0  0  0  0\\n    4.6855   -2.1417    0.4526 C   0  0  0  0  0  0  0  0  0  0  0  0\\n    5.9787   -2.1371   -0.2005 N   0  0  0  0  0  4  0  0  0  0  0  0\\n    7.0307   -1.8125    0.7113 C   0  0  0  0  0  0  0  0  0  0  0  0\\n    7.2448   -2.8320    1.8060 C   0  0  0  0  0  0  0  0  0  0  0  0\\n    7.4156   -4.2035    1.2147 C   0  0  0  0  0  0  0  0  0  0  0  0\\n    6.2709   -4.5180    0.2418 C   0  0  0  0  0  0  0  0  0  0  0  0\\n    6.2785   -3.4361   -0.7912 C   0  0  0  0  0  0  0  0  0  0  0  0\\n    4.7785    1.7624   -1.1281 C   0  0  0  0  0  0  0  0  0  0  0  0\\n    5.1655    3.0904   -0.9273 F   0  0  0  0  0  0  0  0  0  0  0  0\\n    5.0112    1.4266   -2.4354 F   0  0  0  0  0  0  0  0  0  0  0  0\\n    5.5434    0.9462   -0.3169 F   0  0  0  0  0  0  0  0  0  0  0  0\\n   -1.8398    3.4689   -1.0955 C   0  0  0  0  0  0  0  0  0  0  0  0\\n    8.5596   -4.1449    0.4060 F   0  0  0  0  0  0  0  0  0  0  0  0\\n   -3.6220   10.4093    1.6844 H   0  0  0  0  0  0  0  0  0  0  0  0\\n   -4.1429    8.0846    0.8031 H   0  0  0  0  0  0  0  0  0  0  0  0\\n   -1.1305   11.0358    1.8188 H   0  0  0  0  0  0  0  0  0  0  0  0\\n   -1.0355    5.9259   -0.1727 H   0  0  0  0  0  0  0  0  0  0  0  0\\n   -4.2125    2.9948   -1.9821 H   0  0  0  0  0  0  0  0  0  0  0  0\\n   -5.1656    4.1029   -0.8454 H   0  0  0  0  0  0  0  0  0  0  0  0\\n   -5.1548    1.7144   -0.1541 H   0  0  0  0  0  0  0  0  0  0  0  0\\n   -4.5985    2.9251    1.0285 H   0  0  0  0  0  0  0  0  0  0  0  0\\n   -3.0503   -0.6907    2.5944 H   0  0  0  0  0  0  0  0  0  0  0  0\\n   -4.4458    0.3534    2.0852 H   0  0  0  0  0  0  0  0  0  0  0  0\\n   -4.7404   -2.0364    1.5251 H   0  0  0  0  0  0  0  0  0  0  0  0\\n   -2.2160   -1.5264   -0.1599 H   0  0  0  0  0  0  0  0  0  0  0  0\\n   -2.2373   -2.5236    1.2999 H   0  0  0  0  0  0  0  0  0  0  0  0\\n   -2.4323   -3.4062   -1.1254 H   0  0  0  0  0  0  0  0  0  0  0  0\\n   -4.3852   -2.5524   -1.8442 H   0  0  0  0  0  0  0  0  0  0  0  0\\n   -5.2861   -3.2255   -0.3622 H   0  0  0  0  0  0  0  0  0  0  0  0\\n   -3.6219   -4.9775   -2.1790 H   0  0  0  0  0  0  0  0  0  0  0  0\\n   -5.3947   -4.5316   -2.4746 H   0  0  0  0  0  0  0  0  0  0  0  0\\n   -5.0184   -6.6640   -1.0124 H   0  0  0  0  0  0  0  0  0  0  0  0\\n   -6.1034   -5.3751   -0.4654 H   0  0  0  0  0  0  0  0  0  0  0  0\\n   -4.8803   -5.0157    1.3948 H   0  0  0  0  0  0  0  0  0  0  0  0\\n   -3.8945   -6.4135    0.9351 H   0  0  0  0  0  0  0  0  0  0  0  0\\n   -2.6086   -4.3073    1.3988 H   0  0  0  0  0  0  0  0  0  0  0  0\\n   -2.1919   -5.2563   -0.0360 H   0  0  0  0  0  0  0  0  0  0  0  0\\n   -4.2070   -0.4061   -0.7621 H   0  0  0  0  0  0  0  0  0  0  0  0\\n    0.8135    3.5415    0.4013 H   0  0  0  0  0  0  0  0  0  0  0  0\\n    3.2259    3.6793   -0.1647 H   0  0  0  0  0  0  0  0  0  0  0  0\\n    0.7630   -0.5281   -0.8194 H   0  0  0  0  0  0  0  0  0  0  0  0\\n    3.6499   -3.3077   -1.0590 H   0  0  0  0  0  0  0  0  0  0  0  0\\n    2.6375   -2.4339    0.0797 H   0  0  0  0  0  0  0  0  0  0  0  0\\n    4.5648   -1.1614    0.9544 H   0  0  0  0  0  0  0  0  0  0  0  0\\n    4.6448   -2.8858    1.2866 H   0  0  0  0  0  0  0  0  0  0  0  0\\n    5.9587   -1.4743   -0.9789 H   0  0  0  0  0  0  0  0  0  0  0  0\\n    6.8977   -0.8109    1.1401 H   0  0  0  0  0  0  0  0  0  0  0  0\\n    7.9957   -1.7672    0.1297 H   0  0  0  0  0  0  0  0  0  0  0  0\\n    8.2349   -2.5729    2.2832 H   0  0  0  0  0  0  0  0  0  0  0  0\\n    6.5027   -2.7805    2.6166 H   0  0  0  0  0  0  0  0  0  0  0  0\\n    7.5149   -4.9772    1.9820 H   0  0  0  0  0  0  0  0  0  0  0  0\\n    5.3225   -4.7020    0.7420 H   0  0  0  0  0  0  0  0  0  0  0  0\\n    6.5621   -5.4685   -0.2609 H   0  0  0  0  0  0  0  0  0  0  0  0\\n    7.3097   -3.3681   -1.1955 H   0  0  0  0  0  0  0  0  0  0  0  0\\n    5.6222   -3.6516   -1.6574 H   0  0  0  0  0  0  0  0  0  0  0  0\\n   -1.8751    3.1968   -2.1826 H   0  0  0  0  0  0  0  0  0  0  0  0\\n   -0.9758    4.1155   -0.9839 H   0  0  0  0  0  0  0  0  0  0  0  0\\n  1  2  1  0\\n  1  5  2  0\\n  2  3  2  0\\n  3  4  1  0\\n  3  6  1  0\\n  4  5  1  0\\n  6  7  1  0\\n  7  8  2  0\\n  7  9  1  0\\n  9 10  1  0\\n  9 46  1  0\\n 10 11  1  0\\n 11 12  1  0\\n 12 13  2  0\\n 12 16  1  0\\n 13 14  1  0\\n 13 46  1  0\\n 14 15  2  0\\n 14 27  1  0\\n 15 16  1  0\\n 16 17  1  0\\n 17 18  1  0\\n 18 19  1  0\\n 18 26  1  0\\n 19 20  1  0\\n 20 21  1  0\\n 20 25  1  0\\n 21 22  1  0\\n 22 23  1  0\\n 23 24  1  0\\n 24 25  1  0\\n 27 28  2  0\\n 27 32  1  0\\n 28 29  1  0\\n 29 30  2  0\\n 30 31  1  0\\n 30 42  1  0\\n 31 32  2  0\\n 31 33  1  0\\n 33 34  1  0\\n 34 35  1  0\\n 35 36  1  0\\n 36 37  1  0\\n 36 41  1  0\\n 37 38  1  0\\n 38 39  1  0\\n 39 40  1  0\\n 39 47  1  0\\n 40 41  1  0\\n 42 43  1  0\\n 42 44  1  0\\n 42 45  1  0\\n  1 48  1  0\\n  2 49  1  0\\n  5 50  1  0\\n  6 51  1  0\\n 10 52  1  0\\n 10 53  1  0\\n 11 54  1  0\\n 11 55  1  0\\n 17 56  1  0\\n 17 57  1  0\\n 18 58  1  1\\n 19 59  1  0\\n 19 60  1  0\\n 20 61  1  0\\n 21 62  1  0\\n 21 63  1  0\\n 22 64  1  0\\n 22 65  1  0\\n 23 66  1  0\\n 23 67  1  0\\n 24 68  1  0\\n 24 69  1  0\\n 25 70  1  0\\n 25 71  1  0\\n 26 72  1  0\\n 28 73  1  0\\n 29 74  1  0\\n 32 75  1  0\\n 34 76  1  0\\n 34 77  1  0\\n 35 78  1  0\\n 35 79  1  0\\n 36 80  1  0\\n 37 81  1  0\\n 37 82  1  0\\n 38 83  1  0\\n 38 84  1  0\\n 39 85  1  0\\n 40 86  1  0\\n 40 87  1  0\\n 41 88  1  0\\n 41 89  1  0\\n 46 90  1  0\\n 46 91  1  0\\nM  CHG  2  20   1  36   1\\nM  END\\n\",\"sdf\");\n\tviewer_16572838875776916.setStyle({\"stick\": {}});\n\tviewer_16572838875776916.render();\nviewer_16572838875776916.render();\n});\n</script>",
      "text/html": [
       "<div id=\"3dmolviewer_16572838875776916\"  style=\"position: relative; width: 600px; height: 400px\">\n",
       "        <p id=\"3dmolwarning_16572838875776916\" style=\"background-color:#ffcccc;color:black\">You appear to be running in JupyterLab (or JavaScript failed to load for some other reason).  You need to install the 3dmol extension: <br>\n",
       "        <tt>jupyter labextension install jupyterlab_3dmol</tt></p>\n",
       "        </div>\n",
       "<script>\n",
       "\n",
       "var loadScriptAsync = function(uri){\n",
       "  return new Promise((resolve, reject) => {\n",
       "    var tag = document.createElement('script');\n",
       "    tag.src = uri;\n",
       "    tag.async = true;\n",
       "    tag.onload = () => {\n",
       "      resolve();\n",
       "    };\n",
       "  var firstScriptTag = document.getElementsByTagName('script')[0];\n",
       "  firstScriptTag.parentNode.insertBefore(tag, firstScriptTag);\n",
       "});\n",
       "};\n",
       "\n",
       "if(typeof $3Dmolpromise === 'undefined') {\n",
       "$3Dmolpromise = null;\n",
       "  $3Dmolpromise = loadScriptAsync('https://3dmol.org/build/3Dmol.js');\n",
       "}\n",
       "\n",
       "var viewer_16572838875776916 = null;\n",
       "var warn = document.getElementById(\"3dmolwarning_16572838875776916\");\n",
       "if(warn) {\n",
       "    warn.parentNode.removeChild(warn);\n",
       "}\n",
       "$3Dmolpromise.then(function() {\n",
       "viewer_16572838875776916 = $3Dmol.createViewer($(\"#3dmolviewer_16572838875776916\"),{backgroundColor:\"white\"});\n",
       "viewer_16572838875776916.zoomTo();\n",
       "\tviewer_16572838875776916.addModel(\"cats_CatS_165\\n     RDKit          3D\\n\\n102106  0  0  1  0  0  0  0  0999 V2000\\n    1.3429    2.6664   -0.0517 C   0  0  0  0  0  0  0  0  0  0  0  0\\n    2.6915    2.7473   -0.3600 C   0  0  0  0  0  0  0  0  0  0  0  0\\n    3.3483    1.6218   -0.8398 C   0  0  0  0  0  0  0  0  0  0  0  0\\n    2.6661    0.4744   -0.9980 C   0  0  0  0  0  0  0  0  0  0  0  0\\n    1.2791    0.4121   -0.6725 C   0  0  0  0  0  0  0  0  0  0  0  0\\n    0.6306    1.5067   -0.2022 C   0  0  0  0  0  0  0  0  0  0  0  0\\n   -0.8045    1.4154    0.1311 C   0  0  0  0  0  0  0  0  0  0  0  0\\n   -1.8254    2.2397   -0.2418 C   0  0  0  0  0  0  0  0  0  0  0  0\\n   -3.0189    1.7302    0.2980 C   0  0  0  0  0  0  0  0  0  0  0  0\\n   -2.7019    0.6236    0.9788 N   0  0  0  0  0  0  0  0  0  0  0  0\\n   -1.3876    0.4417    0.8766 N   0  0  0  0  0  0  0  0  0  0  0  0\\n   -3.6022   -0.2810    1.7158 C   0  0  0  0  0  0  0  0  0  0  0  0\\n   -4.0805   -1.4291    0.8703 C   0  0  2  0  0  0  0  0  0  0  0  0\\n   -2.8537   -2.2082    0.4338 C   0  0  0  0  0  0  0  0  0  0  0  0\\n   -3.1502   -3.3737   -0.3661 N   0  0  0  0  0  4  0  0  0  0  0  0\\n   -4.4268   -3.2974   -1.0233 C   0  0  0  0  0  0  0  0  0  0  0  0\\n   -4.5866   -4.6488   -1.7451 C   0  0  0  0  0  0  0  0  0  0  0  0\\n   -5.0180   -5.6109   -0.6638 C   0  0  0  0  0  0  0  0  0  0  0  0\\n   -4.2233   -5.3927    0.5753 C   0  0  0  0  0  0  0  0  0  0  0  0\\n   -2.9746   -4.5948    0.3909 C   0  0  0  0  0  0  0  0  0  0  0  0\\n   -4.8049   -0.9594   -0.1956 O   0  0  0  0  0  0  0  0  0  0  0  0\\n   -4.3276    2.3820    0.0880 C   0  0  0  0  0  0  0  0  0  0  0  0\\n   -4.2812    3.4589   -0.9913 C   0  0  0  0  0  0  0  0  0  0  0  0\\n   -3.0284    4.1889   -0.6841 N   0  0  0  0  0  0  0  0  0  0  0  0\\n   -1.8388    3.4738   -1.0391 C   0  0  0  0  0  0  0  0  0  0  0  0\\n   -3.0724    5.5234   -0.2147 C   0  0  0  0  0  0  0  0  0  0  0  0\\n   -4.2526    6.0196   -0.3147 O   0  0  0  0  0  0  0  0  0  0  0  0\\n    3.3752   -0.9989   -1.7174 S   0  0  0  0  0  0  0  0  0  0  0  0\\n    3.6079   -2.2920   -0.5223 C   0  0  0  0  0  0  0  0  0  0  0  0\\n    4.6809   -2.1491    0.4641 C   0  0  0  0  0  0  0  0  0  0  0  0\\n    5.9826   -2.1227   -0.1938 N   0  0  0  0  0  4  0  0  0  0  0  0\\n    7.0316   -1.8101    0.7082 C   0  0  0  0  0  0  0  0  0  0  0  0\\n    7.2468   -2.8280    1.8037 C   0  0  0  0  0  0  0  0  0  0  0  0\\n    7.4157   -4.2002    1.2223 C   0  0  0  0  0  0  0  0  0  0  0  0\\n    6.2735   -4.5160    0.2363 C   0  0  0  0  0  0  0  0  0  0  0  0\\n    6.2759   -3.4430   -0.7765 C   0  0  0  0  0  0  0  0  0  0  0  0\\n    4.7772    1.7574   -1.1520 C   0  0  0  0  0  0  0  0  0  0  0  0\\n    5.1681    3.0880   -0.9171 F   0  0  0  0  0  0  0  0  0  0  0  0\\n    5.0109    1.4244   -2.4441 F   0  0  0  0  0  0  0  0  0  0  0  0\\n    5.5425    0.9536   -0.3133 F   0  0  0  0  0  0  0  0  0  0  0  0\\n    8.5606   -4.1430    0.4079 F   0  0  0  0  0  0  0  0  0  0  0  0\\n   -2.0512    6.2991    0.2852 N   0  0  0  0  0  0  0  0  0  0  0  0\\n   -2.1146    7.7545   -0.0133 C   0  0  0  0  0  0  0  0  0  0  0  0\\n   -1.1247    6.0190    1.3712 C   0  0  0  0  0  0  0  0  0  0  0  0\\n   -3.4549    8.2859    0.4032 C   0  0  0  0  0  0  0  0  0  0  0  0\\n   -2.0433    7.8862   -1.5417 C   0  0  0  0  0  0  0  0  0  0  0  0\\n   -1.1353    4.7040    1.9932 C   0  0  0  0  0  0  0  0  0  0  0  0\\n   -1.9005    6.8724    2.5991 C   0  0  0  0  0  0  0  0  0  0  0  0\\n    0.8945    3.5788    0.2856 H   0  0  0  0  0  0  0  0  0  0  0  0\\n    3.2132    3.6833   -0.2232 H   0  0  0  0  0  0  0  0  0  0  0  0\\n    0.7679   -0.5086   -0.8064 H   0  0  0  0  0  0  0  0  0  0  0  0\\n   -3.0034   -0.7208    2.5472 H   0  0  0  0  0  0  0  0  0  0  0  0\\n   -4.4255    0.2890    2.1773 H   0  0  0  0  0  0  0  0  0  0  0  0\\n   -4.6608   -2.0914    1.5221 H   0  0  0  0  0  0  0  0  0  0  0  0\\n   -2.2687   -2.4355    1.3430 H   0  0  0  0  0  0  0  0  0  0  0  0\\n   -2.2613   -1.4839   -0.1996 H   0  0  0  0  0  0  0  0  0  0  0  0\\n   -2.4263   -3.4216   -1.1454 H   0  0  0  0  0  0  0  0  0  0  0  0\\n   -5.2868   -3.2287   -0.3574 H   0  0  0  0  0  0  0  0  0  0  0  0\\n   -4.3938   -2.5547   -1.8416 H   0  0  0  0  0  0  0  0  0  0  0  0\\n   -5.3414   -4.5390   -2.5368 H   0  0  0  0  0  0  0  0  0  0  0  0\\n   -3.5974   -4.9187   -2.1825 H   0  0  0  0  0  0  0  0  0  0  0  0\\n   -4.9143   -6.6440   -1.0912 H   0  0  0  0  0  0  0  0  0  0  0  0\\n   -6.1138   -5.4461   -0.5054 H   0  0  0  0  0  0  0  0  0  0  0  0\\n   -4.8649   -4.8520    1.3207 H   0  0  0  0  0  0  0  0  0  0  0  0\\n   -3.9347   -6.3802    0.9803 H   0  0  0  0  0  0  0  0  0  0  0  0\\n   -2.1978   -5.2595   -0.0156 H   0  0  0  0  0  0  0  0  0  0  0  0\\n   -2.6175   -4.3048    1.4166 H   0  0  0  0  0  0  0  0  0  0  0  0\\n   -5.7533   -0.8489    0.0927 H   0  0  0  0  0  0  0  0  0  0  0  0\\n   -5.1655    1.7421   -0.1346 H   0  0  0  0  0  0  0  0  0  0  0  0\\n   -4.5776    2.9382    1.0385 H   0  0  0  0  0  0  0  0  0  0  0  0\\n   -5.1610    4.1097   -0.8462 H   0  0  0  0  0  0  0  0  0  0  0  0\\n   -4.2231    2.9959   -1.9921 H   0  0  0  0  0  0  0  0  0  0  0  0\\n   -2.0020    3.1287   -2.1116 H   0  0  0  0  0  0  0  0  0  0  0  0\\n   -0.9354    4.0652   -1.0444 H   0  0  0  0  0  0  0  0  0  0  0  0\\n    2.6339   -2.4140    0.0404 H   0  0  0  0  0  0  0  0  0  0  0  0\\n    3.6881   -3.2673   -1.0895 H   0  0  0  0  0  0  0  0  0  0  0  0\\n    4.6229   -2.9336    1.2098 H   0  0  0  0  0  0  0  0  0  0  0  0\\n    4.5665   -1.1851    0.9999 H   0  0  0  0  0  0  0  0  0  0  0  0\\n    5.9984   -1.5322   -1.0300 H   0  0  0  0  0  0  0  0  0  0  0  0\\n    7.9767   -1.7285    0.1382 H   0  0  0  0  0  0  0  0  0  0  0  0\\n    6.8862   -0.8283    1.2074 H   0  0  0  0  0  0  0  0  0  0  0  0\\n    8.1883   -2.5579    2.3160 H   0  0  0  0  0  0  0  0  0  0  0  0\\n    6.3938   -2.8365    2.5122 H   0  0  0  0  0  0  0  0  0  0  0  0\\n    7.5052   -4.9631    1.9972 H   0  0  0  0  0  0  0  0  0  0  0  0\\n    6.6297   -5.4546   -0.2837 H   0  0  0  0  0  0  0  0  0  0  0  0\\n    5.3466   -4.7680    0.7211 H   0  0  0  0  0  0  0  0  0  0  0  0\\n    7.3055   -3.3492   -1.1870 H   0  0  0  0  0  0  0  0  0  0  0  0\\n    5.6194   -3.6419   -1.6453 H   0  0  0  0  0  0  0  0  0  0  0  0\\n   -1.2726    8.3061    0.3967 H   0  0  0  0  0  0  0  0  0  0  0  0\\n   -0.2826    6.6842    1.3834 H   0  0  0  0  0  0  0  0  0  0  0  0\\n   -4.1735    8.3290   -0.4690 H   0  0  0  0  0  0  0  0  0  0  0  0\\n   -3.3823    9.3771    0.7021 H   0  0  0  0  0  0  0  0  0  0  0  0\\n   -3.9720    7.7061    1.1874 H   0  0  0  0  0  0  0  0  0  0  0  0\\n   -3.0621    8.0088   -1.9631 H   0  0  0  0  0  0  0  0  0  0  0  0\\n   -1.6461    6.9337   -1.9829 H   0  0  0  0  0  0  0  0  0  0  0  0\\n   -1.4339    8.7507   -1.8349 H   0  0  0  0  0  0  0  0  0  0  0  0\\n   -1.2664    4.7700    3.1550 H   0  0  0  0  0  0  0  0  0  0  0  0\\n   -0.2388    4.1070    1.9156 H   0  0  0  0  0  0  0  0  0  0  0  0\\n   -2.0935    4.1648    1.7342 H   0  0  0  0  0  0  0  0  0  0  0  0\\n   -2.8169    6.3434    2.7532 H   0  0  0  0  0  0  0  0  0  0  0  0\\n   -1.8726    7.8883    2.2730 H   0  0  0  0  0  0  0  0  0  0  0  0\\n   -1.1847    6.6882    3.4073 H   0  0  0  0  0  0  0  0  0  0  0  0\\n  1  2  2  0\\n  1  6  1  0\\n  2  3  1  0\\n  3  4  2  0\\n  3 37  1  0\\n  4  5  1  0\\n  4 28  1  0\\n  5  6  2  0\\n  6  7  1  0\\n  7  8  1  0\\n  7 11  2  0\\n  8  9  2  0\\n  8 25  1  0\\n  9 10  1  0\\n  9 22  1  0\\n 10 11  1  0\\n 10 12  1  0\\n 12 13  1  0\\n 13 14  1  0\\n 13 21  1  0\\n 14 15  1  0\\n 15 16  1  0\\n 15 20  1  0\\n 16 17  1  0\\n 17 18  1  0\\n 18 19  1  0\\n 19 20  1  0\\n 22 23  1  0\\n 23 24  1  0\\n 24 25  1  0\\n 24 26  1  0\\n 26 27  2  0\\n 28 29  1  0\\n 29 30  1  0\\n 30 31  1  0\\n 31 32  1  0\\n 31 36  1  0\\n 32 33  1  0\\n 33 34  1  0\\n 34 35  1  0\\n 34 41  1  0\\n 35 36  1  0\\n 37 38  1  0\\n 37 39  1  0\\n 37 40  1  0\\n 42 26  1  0\\n 43 42  1  0\\n 44 42  1  0\\n 45 43  1  0\\n 46 43  1  0\\n 47 44  1  0\\n 48 44  1  0\\n  1 49  1  0\\n  2 50  1  0\\n  5 51  1  0\\n 12 52  1  0\\n 12 53  1  0\\n 13 54  1  1\\n 14 55  1  0\\n 14 56  1  0\\n 15 57  1  0\\n 16 58  1  0\\n 16 59  1  0\\n 17 60  1  0\\n 17 61  1  0\\n 18 62  1  0\\n 18 63  1  0\\n 19 64  1  0\\n 19 65  1  0\\n 20 66  1  0\\n 20 67  1  0\\n 21 68  1  0\\n 22 69  1  0\\n 22 70  1  0\\n 23 71  1  0\\n 23 72  1  0\\n 25 73  1  0\\n 25 74  1  0\\n 29 75  1  0\\n 29 76  1  0\\n 30 77  1  0\\n 30 78  1  0\\n 31 79  1  0\\n 32 80  1  0\\n 32 81  1  0\\n 33 82  1  0\\n 33 83  1  0\\n 34 84  1  0\\n 35 85  1  0\\n 35 86  1  0\\n 36 87  1  0\\n 36 88  1  0\\n 43 89  1  0\\n 44 90  1  0\\n 45 91  1  0\\n 45 92  1  0\\n 45 93  1  0\\n 46 94  1  0\\n 46 95  1  0\\n 46 96  1  0\\n 47 97  1  0\\n 47 98  1  0\\n 47 99  1  0\\n 48100  1  0\\n 48101  1  0\\n 48102  1  0\\nM  CHG  2  15   1  31   1\\nM  END\\n\",\"sdf\");\n",
       "\tviewer_16572838875776916.addModel(\"cats_CatS_132\\n     RDKit          3D\\n\\n 91 96  0  0  1  0  0  0  0  0999 V2000\\n   -2.8323    9.6881    1.3692 C   0  0  0  0  0  0  0  0  0  0  0  0\\n   -3.0964    8.4607    0.9035 C   0  0  0  0  0  0  0  0  0  0  0  0\\n   -2.0491    7.6688    0.5494 C   0  0  0  0  0  0  0  0  0  0  0  0\\n   -0.6921    8.6890    0.8867 S   0  0  0  0  0  0  0  0  0  0  0  0\\n   -1.5203   10.0633    1.4576 C   0  0  0  0  0  0  0  0  0  0  0  0\\n   -2.0036    6.3247    0.0248 N   0  0  0  0  0  0  0  0  0  0  0  0\\n   -3.0946    5.5103   -0.2438 C   0  0  0  0  0  0  0  0  0  0  0  0\\n   -4.2536    5.9952   -0.0040 O   0  0  0  0  0  0  0  0  0  0  0  0\\n   -3.0377    4.1896   -0.7601 N   0  0  0  0  0  0  0  0  0  0  0  0\\n   -4.2900    3.4528   -0.9897 C   0  0  0  0  0  0  0  0  0  0  0  0\\n   -4.3273    2.3820    0.0765 C   0  0  0  0  0  0  0  0  0  0  0  0\\n   -3.0170    1.7309    0.2832 C   0  0  0  0  0  0  0  0  0  0  0  0\\n   -1.8288    2.2439   -0.2541 C   0  0  0  0  0  0  0  0  0  0  0  0\\n   -0.8067    1.4204    0.1345 C   0  0  0  0  0  0  0  0  0  0  0  0\\n   -1.3887    0.4454    0.8835 N   0  0  0  0  0  0  0  0  0  0  0  0\\n   -2.7027    0.6258    0.9744 N   0  0  0  0  0  0  0  0  0  0  0  0\\n   -3.6070   -0.2770    1.7106 C   0  0  0  0  0  0  0  0  0  0  0  0\\n   -4.0771   -1.4327    0.8696 C   0  0  2  0  0  0  0  0  0  0  0  0\\n   -2.8536   -2.2072    0.4395 C   0  0  0  0  0  0  0  0  0  0  0  0\\n   -3.1490   -3.3751   -0.3581 N   0  0  0  0  0  4  0  0  0  0  0  0\\n   -4.4253   -3.2986   -1.0253 C   0  0  0  0  0  0  0  0  0  0  0  0\\n   -4.5860   -4.6485   -1.7455 C   0  0  0  0  0  0  0  0  0  0  0  0\\n   -5.0171   -5.6116   -0.6661 C   0  0  0  0  0  0  0  0  0  0  0  0\\n   -4.2228   -5.3931    0.5744 C   0  0  0  0  0  0  0  0  0  0  0  0\\n   -2.9742   -4.5948    0.3903 C   0  0  0  0  0  0  0  0  0  0  0  0\\n   -4.8042   -0.9589   -0.2023 O   0  0  0  0  0  0  0  0  0  0  0  0\\n    0.6314    1.5048   -0.1774 C   0  0  0  0  0  0  0  0  0  0  0  0\\n    1.3425    2.6678   -0.0035 C   0  0  0  0  0  0  0  0  0  0  0  0\\n    2.6860    2.7499   -0.3104 C   0  0  0  0  0  0  0  0  0  0  0  0\\n    3.3507    1.6264   -0.8115 C   0  0  0  0  0  0  0  0  0  0  0  0\\n    2.6603    0.4720   -0.9873 C   0  0  0  0  0  0  0  0  0  0  0  0\\n    1.2800    0.4122   -0.6650 C   0  0  0  0  0  0  0  0  0  0  0  0\\n    3.3954   -0.9729   -1.7164 S   0  0  0  0  0  0  0  0  0  0  0  0\\n    3.5942   -2.3029   -0.5319 C   0  0  0  0  0  0  0  0  0  0  0  0\\n    4.6855   -2.1417    0.4526 C   0  0  0  0  0  0  0  0  0  0  0  0\\n    5.9787   -2.1371   -0.2005 N   0  0  0  0  0  4  0  0  0  0  0  0\\n    7.0307   -1.8125    0.7113 C   0  0  0  0  0  0  0  0  0  0  0  0\\n    7.2448   -2.8320    1.8060 C   0  0  0  0  0  0  0  0  0  0  0  0\\n    7.4156   -4.2035    1.2147 C   0  0  0  0  0  0  0  0  0  0  0  0\\n    6.2709   -4.5180    0.2418 C   0  0  0  0  0  0  0  0  0  0  0  0\\n    6.2785   -3.4361   -0.7912 C   0  0  0  0  0  0  0  0  0  0  0  0\\n    4.7785    1.7624   -1.1281 C   0  0  0  0  0  0  0  0  0  0  0  0\\n    5.1655    3.0904   -0.9273 F   0  0  0  0  0  0  0  0  0  0  0  0\\n    5.0112    1.4266   -2.4354 F   0  0  0  0  0  0  0  0  0  0  0  0\\n    5.5434    0.9462   -0.3169 F   0  0  0  0  0  0  0  0  0  0  0  0\\n   -1.8398    3.4689   -1.0955 C   0  0  0  0  0  0  0  0  0  0  0  0\\n    8.5596   -4.1449    0.4060 F   0  0  0  0  0  0  0  0  0  0  0  0\\n   -3.6220   10.4093    1.6844 H   0  0  0  0  0  0  0  0  0  0  0  0\\n   -4.1429    8.0846    0.8031 H   0  0  0  0  0  0  0  0  0  0  0  0\\n   -1.1305   11.0358    1.8188 H   0  0  0  0  0  0  0  0  0  0  0  0\\n   -1.0355    5.9259   -0.1727 H   0  0  0  0  0  0  0  0  0  0  0  0\\n   -4.2125    2.9948   -1.9821 H   0  0  0  0  0  0  0  0  0  0  0  0\\n   -5.1656    4.1029   -0.8454 H   0  0  0  0  0  0  0  0  0  0  0  0\\n   -5.1548    1.7144   -0.1541 H   0  0  0  0  0  0  0  0  0  0  0  0\\n   -4.5985    2.9251    1.0285 H   0  0  0  0  0  0  0  0  0  0  0  0\\n   -3.0503   -0.6907    2.5944 H   0  0  0  0  0  0  0  0  0  0  0  0\\n   -4.4458    0.3534    2.0852 H   0  0  0  0  0  0  0  0  0  0  0  0\\n   -4.7404   -2.0364    1.5251 H   0  0  0  0  0  0  0  0  0  0  0  0\\n   -2.2160   -1.5264   -0.1599 H   0  0  0  0  0  0  0  0  0  0  0  0\\n   -2.2373   -2.5236    1.2999 H   0  0  0  0  0  0  0  0  0  0  0  0\\n   -2.4323   -3.4062   -1.1254 H   0  0  0  0  0  0  0  0  0  0  0  0\\n   -4.3852   -2.5524   -1.8442 H   0  0  0  0  0  0  0  0  0  0  0  0\\n   -5.2861   -3.2255   -0.3622 H   0  0  0  0  0  0  0  0  0  0  0  0\\n   -3.6219   -4.9775   -2.1790 H   0  0  0  0  0  0  0  0  0  0  0  0\\n   -5.3947   -4.5316   -2.4746 H   0  0  0  0  0  0  0  0  0  0  0  0\\n   -5.0184   -6.6640   -1.0124 H   0  0  0  0  0  0  0  0  0  0  0  0\\n   -6.1034   -5.3751   -0.4654 H   0  0  0  0  0  0  0  0  0  0  0  0\\n   -4.8803   -5.0157    1.3948 H   0  0  0  0  0  0  0  0  0  0  0  0\\n   -3.8945   -6.4135    0.9351 H   0  0  0  0  0  0  0  0  0  0  0  0\\n   -2.6086   -4.3073    1.3988 H   0  0  0  0  0  0  0  0  0  0  0  0\\n   -2.1919   -5.2563   -0.0360 H   0  0  0  0  0  0  0  0  0  0  0  0\\n   -4.2070   -0.4061   -0.7621 H   0  0  0  0  0  0  0  0  0  0  0  0\\n    0.8135    3.5415    0.4013 H   0  0  0  0  0  0  0  0  0  0  0  0\\n    3.2259    3.6793   -0.1647 H   0  0  0  0  0  0  0  0  0  0  0  0\\n    0.7630   -0.5281   -0.8194 H   0  0  0  0  0  0  0  0  0  0  0  0\\n    3.6499   -3.3077   -1.0590 H   0  0  0  0  0  0  0  0  0  0  0  0\\n    2.6375   -2.4339    0.0797 H   0  0  0  0  0  0  0  0  0  0  0  0\\n    4.5648   -1.1614    0.9544 H   0  0  0  0  0  0  0  0  0  0  0  0\\n    4.6448   -2.8858    1.2866 H   0  0  0  0  0  0  0  0  0  0  0  0\\n    5.9587   -1.4743   -0.9789 H   0  0  0  0  0  0  0  0  0  0  0  0\\n    6.8977   -0.8109    1.1401 H   0  0  0  0  0  0  0  0  0  0  0  0\\n    7.9957   -1.7672    0.1297 H   0  0  0  0  0  0  0  0  0  0  0  0\\n    8.2349   -2.5729    2.2832 H   0  0  0  0  0  0  0  0  0  0  0  0\\n    6.5027   -2.7805    2.6166 H   0  0  0  0  0  0  0  0  0  0  0  0\\n    7.5149   -4.9772    1.9820 H   0  0  0  0  0  0  0  0  0  0  0  0\\n    5.3225   -4.7020    0.7420 H   0  0  0  0  0  0  0  0  0  0  0  0\\n    6.5621   -5.4685   -0.2609 H   0  0  0  0  0  0  0  0  0  0  0  0\\n    7.3097   -3.3681   -1.1955 H   0  0  0  0  0  0  0  0  0  0  0  0\\n    5.6222   -3.6516   -1.6574 H   0  0  0  0  0  0  0  0  0  0  0  0\\n   -1.8751    3.1968   -2.1826 H   0  0  0  0  0  0  0  0  0  0  0  0\\n   -0.9758    4.1155   -0.9839 H   0  0  0  0  0  0  0  0  0  0  0  0\\n  1  2  1  0\\n  1  5  2  0\\n  2  3  2  0\\n  3  4  1  0\\n  3  6  1  0\\n  4  5  1  0\\n  6  7  1  0\\n  7  8  2  0\\n  7  9  1  0\\n  9 10  1  0\\n  9 46  1  0\\n 10 11  1  0\\n 11 12  1  0\\n 12 13  2  0\\n 12 16  1  0\\n 13 14  1  0\\n 13 46  1  0\\n 14 15  2  0\\n 14 27  1  0\\n 15 16  1  0\\n 16 17  1  0\\n 17 18  1  0\\n 18 19  1  0\\n 18 26  1  0\\n 19 20  1  0\\n 20 21  1  0\\n 20 25  1  0\\n 21 22  1  0\\n 22 23  1  0\\n 23 24  1  0\\n 24 25  1  0\\n 27 28  2  0\\n 27 32  1  0\\n 28 29  1  0\\n 29 30  2  0\\n 30 31  1  0\\n 30 42  1  0\\n 31 32  2  0\\n 31 33  1  0\\n 33 34  1  0\\n 34 35  1  0\\n 35 36  1  0\\n 36 37  1  0\\n 36 41  1  0\\n 37 38  1  0\\n 38 39  1  0\\n 39 40  1  0\\n 39 47  1  0\\n 40 41  1  0\\n 42 43  1  0\\n 42 44  1  0\\n 42 45  1  0\\n  1 48  1  0\\n  2 49  1  0\\n  5 50  1  0\\n  6 51  1  0\\n 10 52  1  0\\n 10 53  1  0\\n 11 54  1  0\\n 11 55  1  0\\n 17 56  1  0\\n 17 57  1  0\\n 18 58  1  1\\n 19 59  1  0\\n 19 60  1  0\\n 20 61  1  0\\n 21 62  1  0\\n 21 63  1  0\\n 22 64  1  0\\n 22 65  1  0\\n 23 66  1  0\\n 23 67  1  0\\n 24 68  1  0\\n 24 69  1  0\\n 25 70  1  0\\n 25 71  1  0\\n 26 72  1  0\\n 28 73  1  0\\n 29 74  1  0\\n 32 75  1  0\\n 34 76  1  0\\n 34 77  1  0\\n 35 78  1  0\\n 35 79  1  0\\n 36 80  1  0\\n 37 81  1  0\\n 37 82  1  0\\n 38 83  1  0\\n 38 84  1  0\\n 39 85  1  0\\n 40 86  1  0\\n 40 87  1  0\\n 41 88  1  0\\n 41 89  1  0\\n 46 90  1  0\\n 46 91  1  0\\nM  CHG  2  20   1  36   1\\nM  END\\n\",\"sdf\");\n",
       "\tviewer_16572838875776916.setStyle({\"stick\": {}});\n",
       "\tviewer_16572838875776916.render();\n",
       "viewer_16572838875776916.render();\n",
       "});\n",
       "</script>"
      ]
     },
     "metadata": {},
     "output_type": "display_data"
    },
    {
     "data": {
      "text/plain": [
       "<py3Dmol.view at 0x7fa5c52cb9d0>"
      ]
     },
     "execution_count": 66,
     "metadata": {},
     "output_type": "execute_result"
    }
   ],
   "source": [
    "\n",
    "mh = Chem.AddHs(to_align)\n",
    "AllChem.EmbedMolecule(mh,randomSeed=0xf00d)\n",
    "\n",
    "m_match = mh.GetSubstructMatch(core)\n",
    "\n",
    "ref.GetSubstructMatch(core)\n",
    "\n",
    "newmh = Chem.AddHs(ref)\n",
    "newm_match = newmh.GetSubstructMatch(core)\n",
    "cmap = {newm_match[i]:mh.GetConformer().GetAtomPosition(m_match[i]) for i in range(len(m_match))}\n",
    "AllChem.EmbedMolecule(newmh,randomSeed=0xf00d,coordMap=cmap)\n",
    "\n",
    "AllChem.AlignMol(newmh,mh,atomMap = list(zip(newm_match,m_match)))\n",
    "\n",
    "\n",
    "p_crippen = py3Dmol.view(width=600, height=400)\n",
    "p_crippen.addModel(Chem.MolToMolBlock(newmh), 'sdf')\n",
    "p_crippen.addModel(Chem.MolToMolBlock(mh), 'sdf')\n",
    "p_crippen.setStyle({'stick':{}})\n",
    "p_crippen.render()"
   ]
  },
  {
   "cell_type": "code",
   "execution_count": 60,
   "metadata": {},
   "outputs": [
    {
     "name": "stdout",
     "output_type": "stream",
     "text": [
      "cats_CatS_132\n"
     ]
    },
    {
     "name": "stderr",
     "output_type": "stream",
     "text": [
      "RDKit WARNING: [14:23:02] Could not triangle bounds smooth molecule.\n",
      "[14:23:02] Could not triangle bounds smooth molecule.\n"
     ]
    },
    {
     "ename": "ValueError",
     "evalue": "Could not embed molecule.",
     "output_type": "error",
     "traceback": [
      "\u001b[0;31m---------------------------------------------------------------------------\u001b[0m",
      "\u001b[0;31mValueError\u001b[0m                                Traceback (most recent call last)",
      "\u001b[1;32m/zfsdata/data/linde/fep_intermediate_generation/STRUCTURES/align.ipynb Cell 9'\u001b[0m in \u001b[0;36m<cell line: 4>\u001b[0;34m()\u001b[0m\n\u001b[1;32m      <a href='vscode-notebook-cell://ssh-remote%2B7b22686f73744e616d65223a224e65727661227d/zfsdata/data/linde/fep_intermediate_generation/STRUCTURES/align.ipynb#ch0000007vscode-remote?line=4'>5</a>\u001b[0m     \u001b[39mprint\u001b[39m(m\u001b[39m.\u001b[39mGetProp(\u001b[39m\"\u001b[39m\u001b[39m_Name\u001b[39m\u001b[39m\"\u001b[39m))\n\u001b[1;32m      <a href='vscode-notebook-cell://ssh-remote%2B7b22686f73744e616d65223a224e65727661227d/zfsdata/data/linde/fep_intermediate_generation/STRUCTURES/align.ipynb#ch0000007vscode-remote?line=5'>6</a>\u001b[0m     nm \u001b[39m=\u001b[39m Chem\u001b[39m.\u001b[39mAddHs(m)\n\u001b[0;32m----> <a href='vscode-notebook-cell://ssh-remote%2B7b22686f73744e616d65223a224e65727661227d/zfsdata/data/linde/fep_intermediate_generation/STRUCTURES/align.ipynb#ch0000007vscode-remote?line=6'>7</a>\u001b[0m     AllChem\u001b[39m.\u001b[39;49mConstrainedEmbed(nm,core,getForceField\u001b[39m=\u001b[39;49mGetFF)\n\u001b[1;32m      <a href='vscode-notebook-cell://ssh-remote%2B7b22686f73744e616d65223a224e65727661227d/zfsdata/data/linde/fep_intermediate_generation/STRUCTURES/align.ipynb#ch0000007vscode-remote?line=7'>8</a>\u001b[0m     p_crippen\u001b[39m.\u001b[39maddModel(Chem\u001b[39m.\u001b[39mMolToMolBlock(nm), \u001b[39m'\u001b[39m\u001b[39msdf\u001b[39m\u001b[39m'\u001b[39m)\n\u001b[1;32m      <a href='vscode-notebook-cell://ssh-remote%2B7b22686f73744e616d65223a224e65727661227d/zfsdata/data/linde/fep_intermediate_generation/STRUCTURES/align.ipynb#ch0000007vscode-remote?line=8'>9</a>\u001b[0m p_crippen\u001b[39m.\u001b[39msetStyle({\u001b[39m'\u001b[39m\u001b[39mstick\u001b[39m\u001b[39m'\u001b[39m:{}})\n",
      "File \u001b[0;32m~/.conda/envs/biosimspace/lib/python3.9/site-packages/rdkit/Chem/AllChem.py:313\u001b[0m, in \u001b[0;36mConstrainedEmbed\u001b[0;34m(mol, core, useTethers, coreConfId, randomseed, getForceField, **kwargs)\u001b[0m\n\u001b[1;32m    311\u001b[0m ci \u001b[39m=\u001b[39m EmbedMolecule(mol, coordMap\u001b[39m=\u001b[39mcoordMap, randomSeed\u001b[39m=\u001b[39mrandomseed, \u001b[39m*\u001b[39m\u001b[39m*\u001b[39mkwargs)\n\u001b[1;32m    312\u001b[0m \u001b[39mif\u001b[39;00m ci \u001b[39m<\u001b[39m \u001b[39m0\u001b[39m:\n\u001b[0;32m--> 313\u001b[0m   \u001b[39mraise\u001b[39;00m \u001b[39mValueError\u001b[39;00m(\u001b[39m'\u001b[39m\u001b[39mCould not embed molecule.\u001b[39m\u001b[39m'\u001b[39m)\n\u001b[1;32m    315\u001b[0m algMap \u001b[39m=\u001b[39m [(j, i) \u001b[39mfor\u001b[39;00m i, j \u001b[39min\u001b[39;00m \u001b[39menumerate\u001b[39m(match)]\n\u001b[1;32m    317\u001b[0m \u001b[39mif\u001b[39;00m \u001b[39mnot\u001b[39;00m useTethers:\n\u001b[1;32m    318\u001b[0m   \u001b[39m# clean up the conformation\u001b[39;00m\n",
      "\u001b[0;31mValueError\u001b[0m: Could not embed molecule."
     ]
    }
   ],
   "source": [
    "GetFF=lambda x,confId=-1:AllChem.MMFFGetMoleculeForceField(x,AllChem.MMFFGetMoleculeProperties(x),confId=confId)\n",
    "p_crippen = py3Dmol.view(width=600, height=400)\n",
    "p_crippen.addModel(Chem.MolToMolBlock(core), 'sdf')\n",
    "for m in [to_align]:\n",
    "    print(m.GetProp(\"_Name\"))\n",
    "    nm = Chem.AddHs(m)\n",
    "    \n",
    "    AllChem.ConstrainedEmbed(nm,core,getForceField=GetFF)\n",
    "    p_crippen.addModel(Chem.MolToMolBlock(nm), 'sdf')\n",
    "p_crippen.setStyle({'stick':{}})\n",
    "p_crippen.render()"
   ]
  },
  {
   "cell_type": "code",
   "execution_count": null,
   "metadata": {},
   "outputs": [
    {
     "data": {
      "application/3dmoljs_load.v0": "<div id=\"3dmolviewer_1657197302362468\"  style=\"position: relative; width: 600px; height: 400px\">\n        <p id=\"3dmolwarning_1657197302362468\" style=\"background-color:#ffcccc;color:black\">You appear to be running in JupyterLab (or JavaScript failed to load for some other reason).  You need to install the 3dmol extension: <br>\n        <tt>jupyter labextension install jupyterlab_3dmol</tt></p>\n        </div>\n<script>\n\nvar loadScriptAsync = function(uri){\n  return new Promise((resolve, reject) => {\n    var tag = document.createElement('script');\n    tag.src = uri;\n    tag.async = true;\n    tag.onload = () => {\n      resolve();\n    };\n  var firstScriptTag = document.getElementsByTagName('script')[0];\n  firstScriptTag.parentNode.insertBefore(tag, firstScriptTag);\n});\n};\n\nif(typeof $3Dmolpromise === 'undefined') {\n$3Dmolpromise = null;\n  $3Dmolpromise = loadScriptAsync('https://3dmol.org/build/3Dmol.js');\n}\n\nvar viewer_1657197302362468 = null;\nvar warn = document.getElementById(\"3dmolwarning_1657197302362468\");\nif(warn) {\n    warn.parentNode.removeChild(warn);\n}\n$3Dmolpromise.then(function() {\nviewer_1657197302362468 = $3Dmol.createViewer($(\"#3dmolviewer_1657197302362468\"),{backgroundColor:\"white\"});\nviewer_1657197302362468.zoomTo();\n\tviewer_1657197302362468.addModel(\"jnk1_18634-1_18659-1_i\\n     RDKit          3D\\n\\n 47 48  0  0  0  0  0  0  0  0999 V2000\\n    2.6102    5.8608    1.1055 C   0  0  0  0  0  0  0  0  0  0  0  0\\n    3.4509    5.0876    1.9280 O   0  0  0  0  0  0  0  0  0  0  0  0\\n    3.6185    3.7377    1.6463 C   0  0  0  0  0  0  0  0  0  0  0  0\\n    4.4363    2.9408    2.4319 C   0  0  0  0  0  0  0  0  0  0  0  0\\n    4.6063    1.5977    2.1560 C   0  0  0  0  0  0  0  0  0  0  0  0\\n    3.9840    0.9751    1.0996 C   0  0  0  0  0  0  0  0  0  0  0  0\\n    4.1495   -0.3591    0.8197 O   0  0  0  0  0  0  0  0  0  0  0  0\\n    4.9255   -1.2880    1.5040 C   0  0  0  0  0  0  0  0  0  0  0  0\\n    3.1569    1.7792    0.3049 C   0  0  0  0  0  0  0  0  0  0  0  0\\n    2.4723    1.1236   -0.8371 C   0  0  0  0  0  0  0  0  0  0  0  0\\n    1.3212    0.3095   -0.3990 C   0  0  0  0  0  0  0  0  0  0  0  0\\n    1.0245    0.2916    0.8166 O   0  0  0  0  0  0  0  0  0  0  0  0\\n    0.5450   -0.4498   -1.3081 N   0  0  0  0  0  0  0  0  0  0  0  0\\n   -0.5510   -1.2006   -0.7628 C   0  0  0  0  0  0  0  0  0  0  0  0\\n   -0.3776   -2.4930   -0.2941 C   0  0  0  0  0  0  0  0  0  0  0  0\\n   -1.4716   -3.1464    0.2112 C   0  0  0  0  0  0  0  0  0  0  0  0\\n   -1.3727   -4.4956    0.7209 N   0  0  0  0  0  0  0  0  0  0  0  0\\n   -2.6778   -2.5104    0.2343 C   0  0  0  0  0  0  0  0  0  0  0  0\\n   -3.8587   -3.1527    0.7534 C   0  0  0  0  0  0  0  0  0  0  0  0\\n   -4.8027   -3.6618    1.1480 N   0  0  0  0  0  0  0  0  0  0  0  0\\n   -2.8477   -1.1910   -0.2459 C   0  0  0  0  0  0  0  0  0  0  0  0\\n   -4.0723   -0.5969   -0.2000 O   0  0  0  0  0  0  0  0  0  0  0  0\\n   -4.3849    0.6662   -0.6366 C   0  0  0  0  0  0  0  0  0  0  0  0\\n   -4.1898    0.8837   -2.1046 C   0  0  0  0  0  0  0  0  0  0  0  0\\n   -2.9141    0.7042   -2.5639 O   0  0  0  0  0  0  0  0  0  0  0  0\\n   -1.7482   -0.5953   -0.7293 N   0  0  0  0  0  0  0  0  0  0  0  0\\n    2.9878    3.1134    0.5786 C   0  0  0  0  0  0  0  0  0  0  0  0\\n    1.5672    5.4878    1.0685 H   0  0  0  0  0  0  0  0  0  0  0  0\\n    2.6087    6.9270    1.4646 H   0  0  0  0  0  0  0  0  0  0  0  0\\n    2.9762    5.8033    0.0444 H   0  0  0  0  0  0  0  0  0  0  0  0\\n    4.9508    3.3753    3.2765 H   0  0  0  0  0  0  0  0  0  0  0  0\\n    5.2531    1.0007    2.7874 H   0  0  0  0  0  0  0  0  0  0  0  0\\n    4.4370   -2.3087    1.4670 H   0  0  0  0  0  0  0  0  0  0  0  0\\n    5.1367   -1.0080    2.5544 H   0  0  0  0  0  0  0  0  0  0  0  0\\n    5.8774   -1.4643    0.9153 H   0  0  0  0  0  0  0  0  0  0  0  0\\n    2.1390    1.9044   -1.5648 H   0  0  0  0  0  0  0  0  0  0  0  0\\n    3.2550    0.5142   -1.3741 H   0  0  0  0  0  0  0  0  0  0  0  0\\n    0.7583   -0.4690   -2.3398 H   0  0  0  0  0  0  0  0  0  0  0  0\\n    0.5872   -2.9584   -0.3293 H   0  0  0  0  0  0  0  0  0  0  0  0\\n   -0.8642   -4.6776    1.6178 H   0  0  0  0  0  0  0  0  0  0  0  0\\n   -1.7883   -5.3133    0.2357 H   0  0  0  0  0  0  0  0  0  0  0  0\\n   -5.4463    0.9507   -0.3412 H   0  0  0  0  0  0  0  0  0  0  0  0\\n   -3.7571    1.4584   -0.1110 H   0  0  0  0  0  0  0  0  0  0  0  0\\n   -4.4926    1.9569   -2.2906 H   0  0  0  0  0  0  0  0  0  0  0  0\\n   -4.8993    0.2229   -2.6915 H   0  0  0  0  0  0  0  0  0  0  0  0\\n   -2.8253    0.0840   -3.3275 H   0  0  0  0  0  0  0  0  0  0  0  0\\n    2.3417    3.7565   -0.0343 H   0  0  0  0  0  0  0  0  0  0  0  0\\n  1  2  1  0\\n  2  3  1  0\\n  3  4  2  0\\n  4  5  1  0\\n  5  6  2  0\\n  6  7  1  0\\n  7  8  1  0\\n  6  9  1  0\\n  9 10  1  0\\n 10 11  1  0\\n 11 12  2  0\\n 11 13  1  0\\n 13 14  1  0\\n 14 15  2  0\\n 15 16  1  0\\n 16 17  1  0\\n 16 18  2  0\\n 18 19  1  0\\n 19 20  3  0\\n 18 21  1  0\\n 21 22  1  0\\n 22 23  1  0\\n 23 24  1  0\\n 24 25  1  0\\n 21 26  2  0\\n  9 27  2  0\\n 27  3  1  0\\n 26 14  1  0\\n  1 28  1  0\\n  1 29  1  0\\n  1 30  1  0\\n  4 31  1  0\\n  5 32  1  0\\n  8 33  1  0\\n  8 34  1  0\\n  8 35  1  0\\n 10 36  1  0\\n 10 37  1  0\\n 13 38  1  0\\n 15 39  1  0\\n 17 40  1  0\\n 17 41  1  0\\n 23 42  1  0\\n 23 43  1  0\\n 24 44  1  0\\n 24 45  1  0\\n 25 46  1  0\\n 27 47  1  0\\nM  END\\n\",\"sdf\");\n\tviewer_1657197302362468.setStyle({\"stick\": {}});\n\tviewer_1657197302362468.render();\nviewer_1657197302362468.render();\n});\n</script>",
      "text/html": [
       "<div id=\"3dmolviewer_1657197302362468\"  style=\"position: relative; width: 600px; height: 400px\">\n",
       "        <p id=\"3dmolwarning_1657197302362468\" style=\"background-color:#ffcccc;color:black\">You appear to be running in JupyterLab (or JavaScript failed to load for some other reason).  You need to install the 3dmol extension: <br>\n",
       "        <tt>jupyter labextension install jupyterlab_3dmol</tt></p>\n",
       "        </div>\n",
       "<script>\n",
       "\n",
       "var loadScriptAsync = function(uri){\n",
       "  return new Promise((resolve, reject) => {\n",
       "    var tag = document.createElement('script');\n",
       "    tag.src = uri;\n",
       "    tag.async = true;\n",
       "    tag.onload = () => {\n",
       "      resolve();\n",
       "    };\n",
       "  var firstScriptTag = document.getElementsByTagName('script')[0];\n",
       "  firstScriptTag.parentNode.insertBefore(tag, firstScriptTag);\n",
       "});\n",
       "};\n",
       "\n",
       "if(typeof $3Dmolpromise === 'undefined') {\n",
       "$3Dmolpromise = null;\n",
       "  $3Dmolpromise = loadScriptAsync('https://3dmol.org/build/3Dmol.js');\n",
       "}\n",
       "\n",
       "var viewer_1657197302362468 = null;\n",
       "var warn = document.getElementById(\"3dmolwarning_1657197302362468\");\n",
       "if(warn) {\n",
       "    warn.parentNode.removeChild(warn);\n",
       "}\n",
       "$3Dmolpromise.then(function() {\n",
       "viewer_1657197302362468 = $3Dmol.createViewer($(\"#3dmolviewer_1657197302362468\"),{backgroundColor:\"white\"});\n",
       "viewer_1657197302362468.zoomTo();\n",
       "\tviewer_1657197302362468.addModel(\"jnk1_18634-1_18659-1_i\\n     RDKit          3D\\n\\n 47 48  0  0  0  0  0  0  0  0999 V2000\\n    2.6102    5.8608    1.1055 C   0  0  0  0  0  0  0  0  0  0  0  0\\n    3.4509    5.0876    1.9280 O   0  0  0  0  0  0  0  0  0  0  0  0\\n    3.6185    3.7377    1.6463 C   0  0  0  0  0  0  0  0  0  0  0  0\\n    4.4363    2.9408    2.4319 C   0  0  0  0  0  0  0  0  0  0  0  0\\n    4.6063    1.5977    2.1560 C   0  0  0  0  0  0  0  0  0  0  0  0\\n    3.9840    0.9751    1.0996 C   0  0  0  0  0  0  0  0  0  0  0  0\\n    4.1495   -0.3591    0.8197 O   0  0  0  0  0  0  0  0  0  0  0  0\\n    4.9255   -1.2880    1.5040 C   0  0  0  0  0  0  0  0  0  0  0  0\\n    3.1569    1.7792    0.3049 C   0  0  0  0  0  0  0  0  0  0  0  0\\n    2.4723    1.1236   -0.8371 C   0  0  0  0  0  0  0  0  0  0  0  0\\n    1.3212    0.3095   -0.3990 C   0  0  0  0  0  0  0  0  0  0  0  0\\n    1.0245    0.2916    0.8166 O   0  0  0  0  0  0  0  0  0  0  0  0\\n    0.5450   -0.4498   -1.3081 N   0  0  0  0  0  0  0  0  0  0  0  0\\n   -0.5510   -1.2006   -0.7628 C   0  0  0  0  0  0  0  0  0  0  0  0\\n   -0.3776   -2.4930   -0.2941 C   0  0  0  0  0  0  0  0  0  0  0  0\\n   -1.4716   -3.1464    0.2112 C   0  0  0  0  0  0  0  0  0  0  0  0\\n   -1.3727   -4.4956    0.7209 N   0  0  0  0  0  0  0  0  0  0  0  0\\n   -2.6778   -2.5104    0.2343 C   0  0  0  0  0  0  0  0  0  0  0  0\\n   -3.8587   -3.1527    0.7534 C   0  0  0  0  0  0  0  0  0  0  0  0\\n   -4.8027   -3.6618    1.1480 N   0  0  0  0  0  0  0  0  0  0  0  0\\n   -2.8477   -1.1910   -0.2459 C   0  0  0  0  0  0  0  0  0  0  0  0\\n   -4.0723   -0.5969   -0.2000 O   0  0  0  0  0  0  0  0  0  0  0  0\\n   -4.3849    0.6662   -0.6366 C   0  0  0  0  0  0  0  0  0  0  0  0\\n   -4.1898    0.8837   -2.1046 C   0  0  0  0  0  0  0  0  0  0  0  0\\n   -2.9141    0.7042   -2.5639 O   0  0  0  0  0  0  0  0  0  0  0  0\\n   -1.7482   -0.5953   -0.7293 N   0  0  0  0  0  0  0  0  0  0  0  0\\n    2.9878    3.1134    0.5786 C   0  0  0  0  0  0  0  0  0  0  0  0\\n    1.5672    5.4878    1.0685 H   0  0  0  0  0  0  0  0  0  0  0  0\\n    2.6087    6.9270    1.4646 H   0  0  0  0  0  0  0  0  0  0  0  0\\n    2.9762    5.8033    0.0444 H   0  0  0  0  0  0  0  0  0  0  0  0\\n    4.9508    3.3753    3.2765 H   0  0  0  0  0  0  0  0  0  0  0  0\\n    5.2531    1.0007    2.7874 H   0  0  0  0  0  0  0  0  0  0  0  0\\n    4.4370   -2.3087    1.4670 H   0  0  0  0  0  0  0  0  0  0  0  0\\n    5.1367   -1.0080    2.5544 H   0  0  0  0  0  0  0  0  0  0  0  0\\n    5.8774   -1.4643    0.9153 H   0  0  0  0  0  0  0  0  0  0  0  0\\n    2.1390    1.9044   -1.5648 H   0  0  0  0  0  0  0  0  0  0  0  0\\n    3.2550    0.5142   -1.3741 H   0  0  0  0  0  0  0  0  0  0  0  0\\n    0.7583   -0.4690   -2.3398 H   0  0  0  0  0  0  0  0  0  0  0  0\\n    0.5872   -2.9584   -0.3293 H   0  0  0  0  0  0  0  0  0  0  0  0\\n   -0.8642   -4.6776    1.6178 H   0  0  0  0  0  0  0  0  0  0  0  0\\n   -1.7883   -5.3133    0.2357 H   0  0  0  0  0  0  0  0  0  0  0  0\\n   -5.4463    0.9507   -0.3412 H   0  0  0  0  0  0  0  0  0  0  0  0\\n   -3.7571    1.4584   -0.1110 H   0  0  0  0  0  0  0  0  0  0  0  0\\n   -4.4926    1.9569   -2.2906 H   0  0  0  0  0  0  0  0  0  0  0  0\\n   -4.8993    0.2229   -2.6915 H   0  0  0  0  0  0  0  0  0  0  0  0\\n   -2.8253    0.0840   -3.3275 H   0  0  0  0  0  0  0  0  0  0  0  0\\n    2.3417    3.7565   -0.0343 H   0  0  0  0  0  0  0  0  0  0  0  0\\n  1  2  1  0\\n  2  3  1  0\\n  3  4  2  0\\n  4  5  1  0\\n  5  6  2  0\\n  6  7  1  0\\n  7  8  1  0\\n  6  9  1  0\\n  9 10  1  0\\n 10 11  1  0\\n 11 12  2  0\\n 11 13  1  0\\n 13 14  1  0\\n 14 15  2  0\\n 15 16  1  0\\n 16 17  1  0\\n 16 18  2  0\\n 18 19  1  0\\n 19 20  3  0\\n 18 21  1  0\\n 21 22  1  0\\n 22 23  1  0\\n 23 24  1  0\\n 24 25  1  0\\n 21 26  2  0\\n  9 27  2  0\\n 27  3  1  0\\n 26 14  1  0\\n  1 28  1  0\\n  1 29  1  0\\n  1 30  1  0\\n  4 31  1  0\\n  5 32  1  0\\n  8 33  1  0\\n  8 34  1  0\\n  8 35  1  0\\n 10 36  1  0\\n 10 37  1  0\\n 13 38  1  0\\n 15 39  1  0\\n 17 40  1  0\\n 17 41  1  0\\n 23 42  1  0\\n 23 43  1  0\\n 24 44  1  0\\n 24 45  1  0\\n 25 46  1  0\\n 27 47  1  0\\nM  END\\n\",\"sdf\");\n",
       "\tviewer_1657197302362468.setStyle({\"stick\": {}});\n",
       "\tviewer_1657197302362468.render();\n",
       "viewer_1657197302362468.render();\n",
       "});\n",
       "</script>"
      ]
     },
     "metadata": {},
     "output_type": "display_data"
    },
    {
     "data": {
      "text/plain": [
       "<py3Dmol.view at 0x7f0f901e64f0>"
      ]
     },
     "execution_count": 16,
     "metadata": {},
     "output_type": "execute_result"
    }
   ],
   "source": [
    "p_crippen = py3Dmol.view(width=600, height=400)\n",
    "#p_crippen.addModel(Chem.MolToMolBlock(best_ref), 'sdf')\n",
    "\n",
    "#p_crippen.addModel(Chem.MolToMolBlock(best_mol), 'sdf')\n",
    "p_crippen.addModel(Chem.MolToMolBlock(best_intermediate), 'sdf')\n",
    "p_crippen.setStyle({'stick':{}})\n",
    "p_crippen.render()"
   ]
  }
 ],
 "metadata": {
  "kernelspec": {
   "display_name": "Python 3.9.12 ('biosimspace')",
   "language": "python",
   "name": "python3"
  },
  "language_info": {
   "codemirror_mode": {
    "name": "ipython",
    "version": 3
   },
   "file_extension": ".py",
   "mimetype": "text/x-python",
   "name": "python",
   "nbconvert_exporter": "python",
   "pygments_lexer": "ipython3",
   "version": "3.9.12"
  },
  "orig_nbformat": 4,
  "vscode": {
   "interpreter": {
    "hash": "97f28bfee8a85f696a285d48595febcf49037f9d244f8299113c3ed8945cec0a"
   }
  }
 },
 "nbformat": 4,
 "nbformat_minor": 2
}
